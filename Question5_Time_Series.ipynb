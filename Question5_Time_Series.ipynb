{
  "nbformat": 4,
  "nbformat_minor": 0,
  "metadata": {
    "colab": {
      "name": "Question5_Time Series.ipynb",
      "provenance": [],
      "collapsed_sections": [],
      "include_colab_link": true
    },
    "kernelspec": {
      "name": "python3",
      "display_name": "Python 3"
    },
    "language_info": {
      "name": "python"
    },
    "accelerator": "GPU",
    "gpuClass": "standard"
  },
  "cells": [
    {
      "cell_type": "markdown",
      "metadata": {
        "id": "view-in-github",
        "colab_type": "text"
      },
      "source": [
        "<a href=\"https://colab.research.google.com/github/gabriellaaileen/tensorflow-certification/blob/main/Question5_Time_Series.ipynb\" target=\"_parent\"><img src=\"https://colab.research.google.com/assets/colab-badge.svg\" alt=\"Open In Colab\"/></a>"
      ]
    },
    {
      "cell_type": "markdown",
      "source": [
        "No. 5 Time Series"
      ],
      "metadata": {
        "id": "r_Y0EDyJt5qb"
      }
    },
    {
      "cell_type": "code",
      "execution_count": 1,
      "metadata": {
        "id": "mUQWtDIcqWRK"
      },
      "outputs": [],
      "source": [
        "import numpy as np # linear algebra\n",
        "import pandas as pd # data processing, CSV file I/O (e.g. pd.read_csv)\n",
        "import tensorflow as tf # Deep learning library\n",
        "import matplotlib.pyplot as plt # Visualization\n",
        "from sklearn.model_selection import train_test_split\n",
        "from sklearn.preprocessing import MinMaxScaler"
      ]
    },
    {
      "cell_type": "code",
      "source": [
        "from google.colab import drive\n",
        "drive.mount('/content/drive')"
      ],
      "metadata": {
        "id": "Zs5gbYkTqcVM",
        "colab": {
          "base_uri": "https://localhost:8080/"
        },
        "outputId": "0822c2c3-42d7-4a67-dcdc-c7bf2689a83e"
      },
      "execution_count": 2,
      "outputs": [
        {
          "output_type": "stream",
          "name": "stdout",
          "text": [
            "Mounted at /content/drive\n"
          ]
        }
      ]
    },
    {
      "cell_type": "code",
      "source": [
        "df = pd.read_csv('/content/drive/MyDrive/Cryptocurrency2020.csv')\n",
        "df"
      ],
      "metadata": {
        "id": "OInZhmPWqYYZ",
        "colab": {
          "base_uri": "https://localhost:8080/",
          "height": 424
        },
        "outputId": "1c2b8c40-1185-4d0f-bd11-be1b4d094dd7"
      },
      "execution_count": 3,
      "outputs": [
        {
          "output_type": "execute_result",
          "data": {
            "text/plain": [
              "        Unix Timestamp             Date  Symbol      Open      High       Low  \\\n",
              "0         1.618880e+12   4/20/2021 0:02  BTCUSD  55717.47  55723.00  55541.69   \n",
              "1         1.618880e+12   4/20/2021 0:01  BTCUSD  55768.94  55849.82  55711.74   \n",
              "2         1.618880e+12   4/20/2021 0:00  BTCUSD  55691.79  55793.15  55691.79   \n",
              "3         1.618880e+12  4/19/2021 23:59  BTCUSD  55777.86  55777.86  55677.92   \n",
              "4         1.618880e+12  4/19/2021 23:58  BTCUSD  55803.50  55823.88  55773.08   \n",
              "...                ...              ...     ...       ...       ...       ...   \n",
              "658060    1.577840e+12    1/1/2020 0:04  BTCUSD   7163.60   7163.60   7163.00   \n",
              "658061    1.577840e+12    1/1/2020 0:03  BTCUSD   7163.00   7163.60   7163.00   \n",
              "658062    1.577840e+12    1/1/2020 0:02  BTCUSD   7163.30   7164.22   7163.00   \n",
              "658063    1.577840e+12    1/1/2020 0:01  BTCUSD   7163.30   7164.23   7163.30   \n",
              "658064    1.577840e+12    1/1/2020 0:00  BTCUSD   7165.90   7170.79   7163.30   \n",
              "\n",
              "           Close    Volume  \n",
              "0       55541.69  2.406734  \n",
              "1       55717.47  0.573458  \n",
              "2       55768.94  3.309904  \n",
              "3       55691.79  0.684934  \n",
              "4       55777.86  0.477225  \n",
              "...          ...       ...  \n",
              "658060   7163.00  1.751844  \n",
              "658061   7163.60  0.002706  \n",
              "658062   7163.00  0.063904  \n",
              "658063   7163.30  0.002646  \n",
              "658064   7163.30  0.007931  \n",
              "\n",
              "[658065 rows x 8 columns]"
            ],
            "text/html": [
              "\n",
              "  <div id=\"df-c5716f4a-0ecb-415e-9b81-41e9b1bad698\">\n",
              "    <div class=\"colab-df-container\">\n",
              "      <div>\n",
              "<style scoped>\n",
              "    .dataframe tbody tr th:only-of-type {\n",
              "        vertical-align: middle;\n",
              "    }\n",
              "\n",
              "    .dataframe tbody tr th {\n",
              "        vertical-align: top;\n",
              "    }\n",
              "\n",
              "    .dataframe thead th {\n",
              "        text-align: right;\n",
              "    }\n",
              "</style>\n",
              "<table border=\"1\" class=\"dataframe\">\n",
              "  <thead>\n",
              "    <tr style=\"text-align: right;\">\n",
              "      <th></th>\n",
              "      <th>Unix Timestamp</th>\n",
              "      <th>Date</th>\n",
              "      <th>Symbol</th>\n",
              "      <th>Open</th>\n",
              "      <th>High</th>\n",
              "      <th>Low</th>\n",
              "      <th>Close</th>\n",
              "      <th>Volume</th>\n",
              "    </tr>\n",
              "  </thead>\n",
              "  <tbody>\n",
              "    <tr>\n",
              "      <th>0</th>\n",
              "      <td>1.618880e+12</td>\n",
              "      <td>4/20/2021 0:02</td>\n",
              "      <td>BTCUSD</td>\n",
              "      <td>55717.47</td>\n",
              "      <td>55723.00</td>\n",
              "      <td>55541.69</td>\n",
              "      <td>55541.69</td>\n",
              "      <td>2.406734</td>\n",
              "    </tr>\n",
              "    <tr>\n",
              "      <th>1</th>\n",
              "      <td>1.618880e+12</td>\n",
              "      <td>4/20/2021 0:01</td>\n",
              "      <td>BTCUSD</td>\n",
              "      <td>55768.94</td>\n",
              "      <td>55849.82</td>\n",
              "      <td>55711.74</td>\n",
              "      <td>55717.47</td>\n",
              "      <td>0.573458</td>\n",
              "    </tr>\n",
              "    <tr>\n",
              "      <th>2</th>\n",
              "      <td>1.618880e+12</td>\n",
              "      <td>4/20/2021 0:00</td>\n",
              "      <td>BTCUSD</td>\n",
              "      <td>55691.79</td>\n",
              "      <td>55793.15</td>\n",
              "      <td>55691.79</td>\n",
              "      <td>55768.94</td>\n",
              "      <td>3.309904</td>\n",
              "    </tr>\n",
              "    <tr>\n",
              "      <th>3</th>\n",
              "      <td>1.618880e+12</td>\n",
              "      <td>4/19/2021 23:59</td>\n",
              "      <td>BTCUSD</td>\n",
              "      <td>55777.86</td>\n",
              "      <td>55777.86</td>\n",
              "      <td>55677.92</td>\n",
              "      <td>55691.79</td>\n",
              "      <td>0.684934</td>\n",
              "    </tr>\n",
              "    <tr>\n",
              "      <th>4</th>\n",
              "      <td>1.618880e+12</td>\n",
              "      <td>4/19/2021 23:58</td>\n",
              "      <td>BTCUSD</td>\n",
              "      <td>55803.50</td>\n",
              "      <td>55823.88</td>\n",
              "      <td>55773.08</td>\n",
              "      <td>55777.86</td>\n",
              "      <td>0.477225</td>\n",
              "    </tr>\n",
              "    <tr>\n",
              "      <th>...</th>\n",
              "      <td>...</td>\n",
              "      <td>...</td>\n",
              "      <td>...</td>\n",
              "      <td>...</td>\n",
              "      <td>...</td>\n",
              "      <td>...</td>\n",
              "      <td>...</td>\n",
              "      <td>...</td>\n",
              "    </tr>\n",
              "    <tr>\n",
              "      <th>658060</th>\n",
              "      <td>1.577840e+12</td>\n",
              "      <td>1/1/2020 0:04</td>\n",
              "      <td>BTCUSD</td>\n",
              "      <td>7163.60</td>\n",
              "      <td>7163.60</td>\n",
              "      <td>7163.00</td>\n",
              "      <td>7163.00</td>\n",
              "      <td>1.751844</td>\n",
              "    </tr>\n",
              "    <tr>\n",
              "      <th>658061</th>\n",
              "      <td>1.577840e+12</td>\n",
              "      <td>1/1/2020 0:03</td>\n",
              "      <td>BTCUSD</td>\n",
              "      <td>7163.00</td>\n",
              "      <td>7163.60</td>\n",
              "      <td>7163.00</td>\n",
              "      <td>7163.60</td>\n",
              "      <td>0.002706</td>\n",
              "    </tr>\n",
              "    <tr>\n",
              "      <th>658062</th>\n",
              "      <td>1.577840e+12</td>\n",
              "      <td>1/1/2020 0:02</td>\n",
              "      <td>BTCUSD</td>\n",
              "      <td>7163.30</td>\n",
              "      <td>7164.22</td>\n",
              "      <td>7163.00</td>\n",
              "      <td>7163.00</td>\n",
              "      <td>0.063904</td>\n",
              "    </tr>\n",
              "    <tr>\n",
              "      <th>658063</th>\n",
              "      <td>1.577840e+12</td>\n",
              "      <td>1/1/2020 0:01</td>\n",
              "      <td>BTCUSD</td>\n",
              "      <td>7163.30</td>\n",
              "      <td>7164.23</td>\n",
              "      <td>7163.30</td>\n",
              "      <td>7163.30</td>\n",
              "      <td>0.002646</td>\n",
              "    </tr>\n",
              "    <tr>\n",
              "      <th>658064</th>\n",
              "      <td>1.577840e+12</td>\n",
              "      <td>1/1/2020 0:00</td>\n",
              "      <td>BTCUSD</td>\n",
              "      <td>7165.90</td>\n",
              "      <td>7170.79</td>\n",
              "      <td>7163.30</td>\n",
              "      <td>7163.30</td>\n",
              "      <td>0.007931</td>\n",
              "    </tr>\n",
              "  </tbody>\n",
              "</table>\n",
              "<p>658065 rows × 8 columns</p>\n",
              "</div>\n",
              "      <button class=\"colab-df-convert\" onclick=\"convertToInteractive('df-c5716f4a-0ecb-415e-9b81-41e9b1bad698')\"\n",
              "              title=\"Convert this dataframe to an interactive table.\"\n",
              "              style=\"display:none;\">\n",
              "        \n",
              "  <svg xmlns=\"http://www.w3.org/2000/svg\" height=\"24px\"viewBox=\"0 0 24 24\"\n",
              "       width=\"24px\">\n",
              "    <path d=\"M0 0h24v24H0V0z\" fill=\"none\"/>\n",
              "    <path d=\"M18.56 5.44l.94 2.06.94-2.06 2.06-.94-2.06-.94-.94-2.06-.94 2.06-2.06.94zm-11 1L8.5 8.5l.94-2.06 2.06-.94-2.06-.94L8.5 2.5l-.94 2.06-2.06.94zm10 10l.94 2.06.94-2.06 2.06-.94-2.06-.94-.94-2.06-.94 2.06-2.06.94z\"/><path d=\"M17.41 7.96l-1.37-1.37c-.4-.4-.92-.59-1.43-.59-.52 0-1.04.2-1.43.59L10.3 9.45l-7.72 7.72c-.78.78-.78 2.05 0 2.83L4 21.41c.39.39.9.59 1.41.59.51 0 1.02-.2 1.41-.59l7.78-7.78 2.81-2.81c.8-.78.8-2.07 0-2.86zM5.41 20L4 18.59l7.72-7.72 1.47 1.35L5.41 20z\"/>\n",
              "  </svg>\n",
              "      </button>\n",
              "      \n",
              "  <style>\n",
              "    .colab-df-container {\n",
              "      display:flex;\n",
              "      flex-wrap:wrap;\n",
              "      gap: 12px;\n",
              "    }\n",
              "\n",
              "    .colab-df-convert {\n",
              "      background-color: #E8F0FE;\n",
              "      border: none;\n",
              "      border-radius: 50%;\n",
              "      cursor: pointer;\n",
              "      display: none;\n",
              "      fill: #1967D2;\n",
              "      height: 32px;\n",
              "      padding: 0 0 0 0;\n",
              "      width: 32px;\n",
              "    }\n",
              "\n",
              "    .colab-df-convert:hover {\n",
              "      background-color: #E2EBFA;\n",
              "      box-shadow: 0px 1px 2px rgba(60, 64, 67, 0.3), 0px 1px 3px 1px rgba(60, 64, 67, 0.15);\n",
              "      fill: #174EA6;\n",
              "    }\n",
              "\n",
              "    [theme=dark] .colab-df-convert {\n",
              "      background-color: #3B4455;\n",
              "      fill: #D2E3FC;\n",
              "    }\n",
              "\n",
              "    [theme=dark] .colab-df-convert:hover {\n",
              "      background-color: #434B5C;\n",
              "      box-shadow: 0px 1px 3px 1px rgba(0, 0, 0, 0.15);\n",
              "      filter: drop-shadow(0px 1px 2px rgba(0, 0, 0, 0.3));\n",
              "      fill: #FFFFFF;\n",
              "    }\n",
              "  </style>\n",
              "\n",
              "      <script>\n",
              "        const buttonEl =\n",
              "          document.querySelector('#df-c5716f4a-0ecb-415e-9b81-41e9b1bad698 button.colab-df-convert');\n",
              "        buttonEl.style.display =\n",
              "          google.colab.kernel.accessAllowed ? 'block' : 'none';\n",
              "\n",
              "        async function convertToInteractive(key) {\n",
              "          const element = document.querySelector('#df-c5716f4a-0ecb-415e-9b81-41e9b1bad698');\n",
              "          const dataTable =\n",
              "            await google.colab.kernel.invokeFunction('convertToInteractive',\n",
              "                                                     [key], {});\n",
              "          if (!dataTable) return;\n",
              "\n",
              "          const docLinkHtml = 'Like what you see? Visit the ' +\n",
              "            '<a target=\"_blank\" href=https://colab.research.google.com/notebooks/data_table.ipynb>data table notebook</a>'\n",
              "            + ' to learn more about interactive tables.';\n",
              "          element.innerHTML = '';\n",
              "          dataTable['output_type'] = 'display_data';\n",
              "          await google.colab.output.renderOutput(dataTable, element);\n",
              "          const docLink = document.createElement('div');\n",
              "          docLink.innerHTML = docLinkHtml;\n",
              "          element.appendChild(docLink);\n",
              "        }\n",
              "      </script>\n",
              "    </div>\n",
              "  </div>\n",
              "  "
            ]
          },
          "metadata": {},
          "execution_count": 3
        }
      ]
    },
    {
      "cell_type": "code",
      "source": [
        "def windowed_dataset(series, window_size, batch_size, shuffle_buffer):\n",
        "    series = tf.expand_dims(series, axis=-1)\n",
        "    ds = tf.data.Dataset.from_tensor_slices(series)\n",
        "    ds = ds.window(window_size + 1, shift=1, drop_remainder=True)\n",
        "    ds = ds.flat_map(lambda w: w.batch(window_size + 1))\n",
        "    if shuffle_buffer > 0:\n",
        "        ds = ds.shuffle(shuffle_buffer)\n",
        "    ds = ds.map(lambda w: (w[:-1], w[-1:]))\n",
        "    return ds.batch(batch_size).prefetch(1)\n",
        "\n",
        "train, val = train_test_split(df.iloc[:, 3:], test_size=0.2, shuffle=False)\n",
        "scaler = MinMaxScaler().fit(train)\n",
        "train = scaler.transform(train)[:, 0]\n",
        "val = scaler.transform(val)[:, 0]\n",
        "train = windowed_dataset(train, window_size=64, batch_size=128, shuffle_buffer=1000)\n",
        "val = windowed_dataset(val, window_size=64, batch_size=128, shuffle_buffer=1000)"
      ],
      "metadata": {
        "id": "2OD5u6ubrLoa"
      },
      "execution_count": 4,
      "outputs": []
    },
    {
      "cell_type": "code",
      "source": [
        "train"
      ],
      "metadata": {
        "colab": {
          "base_uri": "https://localhost:8080/"
        },
        "id": "z6569AUwyVmW",
        "outputId": "3e0c1008-006d-45de-c681-bb9f2666c969"
      },
      "execution_count": 5,
      "outputs": [
        {
          "output_type": "execute_result",
          "data": {
            "text/plain": [
              "<PrefetchDataset element_spec=(TensorSpec(shape=(None, None, 1), dtype=tf.float64, name=None), TensorSpec(shape=(None, None, 1), dtype=tf.float64, name=None))>"
            ]
          },
          "metadata": {},
          "execution_count": 5
        }
      ]
    },
    {
      "cell_type": "code",
      "source": [
        "val"
      ],
      "metadata": {
        "colab": {
          "base_uri": "https://localhost:8080/"
        },
        "id": "4a3R2jV4yZxP",
        "outputId": "d30156c9-dd71-4d11-a430-a8fadf67bc74"
      },
      "execution_count": 6,
      "outputs": [
        {
          "output_type": "execute_result",
          "data": {
            "text/plain": [
              "<PrefetchDataset element_spec=(TensorSpec(shape=(None, None, 1), dtype=tf.float64, name=None), TensorSpec(shape=(None, None, 1), dtype=tf.float64, name=None))>"
            ]
          },
          "metadata": {},
          "execution_count": 6
        }
      ]
    },
    {
      "cell_type": "code",
      "source": [
        "#Buatlah model dengan input layer disarankan menggunakan LSTM LSTM dan output layer 1 \n",
        "model = tf.keras.models.Sequential([\n",
        "  tf.keras.layers.Lambda(lambda x: tf.expand_dims(x, axis=-1),\n",
        "                      input_shape=[64]),\n",
        "  tf.keras.layers.Bidirectional(tf.keras.layers.LSTM(128, return_sequences=True)),\n",
        "  tf.keras.layers.Dropout(0.2),\n",
        "  tf.keras.layers.Bidirectional(tf.keras.layers.LSTM(64, return_sequences=True)),\n",
        "  tf.keras.layers.Dropout(0.2),\n",
        "  tf.keras.layers.Bidirectional(tf.keras.layers.LSTM(32, return_sequences=True)),\n",
        "  tf.keras.layers.Dropout(0.2),\n",
        "  tf.keras.layers.Bidirectional(tf.keras.layers.LSTM(32)),\n",
        "  tf.keras.layers.Dense(1)\n",
        "])"
      ],
      "metadata": {
        "id": "I4SG72XIrQf9"
      },
      "execution_count": 12,
      "outputs": []
    },
    {
      "cell_type": "code",
      "source": [
        "# Initialize the optimizer\n",
        "optimizer = tf.keras.optimizers.Adam()\n",
        "\n",
        "#gunakan loss MAE, optimizer boleh bebas memilih\n",
        "model.compile(\n",
        "    loss=tf.keras.losses.MeanAbsoluteError(), optimizer=optimizer\n",
        ")"
      ],
      "metadata": {
        "id": "uGFmyyVzrjY5"
      },
      "execution_count": 13,
      "outputs": []
    },
    {
      "cell_type": "code",
      "source": [
        "callbacks=[\n",
        "        tf.keras.callbacks.EarlyStopping(\n",
        "            patience=10, \n",
        "            restore_best_weights=True\n",
        "        ), \n",
        "        tf.keras.callbacks.ReduceLROnPlateau(\n",
        "            monitor='val_loss',\n",
        "            patience=5\n",
        "        )\n",
        "    ]"
      ],
      "metadata": {
        "id": "tu8MSNWps7gO"
      },
      "execution_count": 9,
      "outputs": []
    },
    {
      "cell_type": "code",
      "source": [
        "#silakan menentukan banyaknya epoch sendiri\n",
        "history = model.fit(\n",
        "    train, steps_per_epoch=64, epochs=50, batch_size=32, validation_data=val, verbose=1, callbacks=[callbacks]\n",
        ")"
      ],
      "metadata": {
        "id": "4mmL1W1Psobe",
        "colab": {
          "base_uri": "https://localhost:8080/"
        },
        "outputId": "9f37d069-d5d4-42a8-a3ec-ec5ca00f2576"
      },
      "execution_count": 14,
      "outputs": [
        {
          "output_type": "stream",
          "name": "stdout",
          "text": [
            "Epoch 1/50\n",
            "64/64 [==============================] - 56s 727ms/step - loss: 0.0670 - val_loss: 0.2105 - lr: 0.0010\n",
            "Epoch 2/50\n",
            "64/64 [==============================] - 28s 442ms/step - loss: 0.0183 - val_loss: 0.1825 - lr: 0.0010\n",
            "Epoch 3/50\n",
            "64/64 [==============================] - 28s 448ms/step - loss: 0.0131 - val_loss: 0.1949 - lr: 0.0010\n",
            "Epoch 4/50\n",
            "64/64 [==============================] - 30s 469ms/step - loss: 0.0136 - val_loss: 0.1699 - lr: 0.0010\n",
            "Epoch 5/50\n",
            "64/64 [==============================] - 28s 442ms/step - loss: 0.0160 - val_loss: 0.1088 - lr: 0.0010\n",
            "Epoch 6/50\n",
            "64/64 [==============================] - 28s 443ms/step - loss: 0.0125 - val_loss: 0.0273 - lr: 0.0010\n",
            "Epoch 7/50\n",
            "64/64 [==============================] - 30s 476ms/step - loss: 0.0153 - val_loss: 0.0847 - lr: 0.0010\n",
            "Epoch 8/50\n",
            "64/64 [==============================] - 28s 446ms/step - loss: 0.0151 - val_loss: 0.0958 - lr: 0.0010\n",
            "Epoch 9/50\n",
            "64/64 [==============================] - 28s 444ms/step - loss: 0.0119 - val_loss: 0.2014 - lr: 0.0010\n",
            "Epoch 10/50\n",
            "64/64 [==============================] - 30s 469ms/step - loss: 0.0146 - val_loss: 0.3219 - lr: 0.0010\n",
            "Epoch 11/50\n",
            "64/64 [==============================] - 28s 448ms/step - loss: 0.0110 - val_loss: 0.3647 - lr: 0.0010\n",
            "Epoch 12/50\n",
            "64/64 [==============================] - 28s 442ms/step - loss: 0.0070 - val_loss: 0.3627 - lr: 1.0000e-04\n",
            "Epoch 13/50\n",
            "64/64 [==============================] - 29s 455ms/step - loss: 0.0079 - val_loss: 0.2880 - lr: 1.0000e-04\n",
            "Epoch 14/50\n",
            "64/64 [==============================] - 29s 456ms/step - loss: 0.0064 - val_loss: 0.2188 - lr: 1.0000e-04\n",
            "Epoch 15/50\n",
            "64/64 [==============================] - 28s 443ms/step - loss: 0.0062 - val_loss: 0.1302 - lr: 1.0000e-04\n",
            "Epoch 16/50\n",
            "64/64 [==============================] - 28s 449ms/step - loss: 0.0053 - val_loss: 0.1057 - lr: 1.0000e-04\n"
          ]
        }
      ]
    },
    {
      "cell_type": "code",
      "source": [
        "%cd /content/drive/MyDrive/Model"
      ],
      "metadata": {
        "colab": {
          "base_uri": "https://localhost:8080/"
        },
        "id": "3-I76kDbhhIN",
        "outputId": "cd00e156-292e-4ca2-954b-1ce3feba6575"
      },
      "execution_count": 15,
      "outputs": [
        {
          "output_type": "stream",
          "name": "stdout",
          "text": [
            "/content/drive/MyDrive/Model\n"
          ]
        }
      ]
    },
    {
      "cell_type": "code",
      "source": [
        "#save model menjadi .h5\n",
        "model.save('model5.h5')"
      ],
      "metadata": {
        "id": "44072zMxuM1U"
      },
      "execution_count": 16,
      "outputs": []
    }
  ]
}