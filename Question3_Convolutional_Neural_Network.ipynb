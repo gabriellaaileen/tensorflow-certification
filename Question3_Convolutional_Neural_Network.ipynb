{
  "nbformat": 4,
  "nbformat_minor": 0,
  "metadata": {
    "colab": {
      "name": "Question3_Convolutional Neural Network.ipynb",
      "provenance": [],
      "collapsed_sections": [],
      "include_colab_link": true
    },
    "kernelspec": {
      "name": "python3",
      "display_name": "Python 3"
    },
    "language_info": {
      "name": "python"
    },
    "accelerator": "GPU",
    "gpuClass": "standard"
  },
  "cells": [
    {
      "cell_type": "markdown",
      "metadata": {
        "id": "view-in-github",
        "colab_type": "text"
      },
      "source": [
        "<a href=\"https://colab.research.google.com/github/gabriellaaileen/tensorflow-certification/blob/main/Question3_Convolutional_Neural_Network.ipynb\" target=\"_parent\"><img src=\"https://colab.research.google.com/assets/colab-badge.svg\" alt=\"Open In Colab\"/></a>"
      ]
    },
    {
      "cell_type": "code",
      "execution_count": 1,
      "metadata": {
        "id": "9BbxYkAK0uGE"
      },
      "outputs": [],
      "source": [
        "import tensorflow as tf\n",
        "from tensorflow.keras.preprocessing.image import ImageDataGenerator\n",
        "from sklearn.model_selection import train_test_split\n",
        "import copy, cv2,glob, shutil\n",
        "import os\n",
        "import numpy as np\n",
        "from google.colab import files\n",
        "from keras.preprocessing import image\n",
        "import matplotlib.pyplot as plt\n",
        "import matplotlib.image as mpimg\n",
        "import zipfile"
      ]
    },
    {
      "cell_type": "code",
      "source": [
        "class mC(tf.keras.callbacks.Callback):\n",
        "    def on_epoch_end(self, epoch, logs={}):\n",
        "        if(logs.get('accuracy') > 0.96):\n",
        "            self.model.stop_training = True\n",
        "callbacks = mC()"
      ],
      "metadata": {
        "id": "U2OGarHD09GG"
      },
      "execution_count": 2,
      "outputs": []
    },
    {
      "cell_type": "code",
      "source": [
        "from google.colab import drive\n",
        "\n",
        "!wget --no-check-certificate \\\n",
        "    https://storage.googleapis.com/laurencemoroney-blog.appspot.com/rps.zip \\\n",
        "    -O /tmp/rps.zip"
      ],
      "metadata": {
        "id": "rb3qOx-i1a9M",
        "colab": {
          "base_uri": "https://localhost:8080/"
        },
        "outputId": "bdfa1108-1ff5-47a1-cd22-f9f63db16aee"
      },
      "execution_count": 3,
      "outputs": [
        {
          "output_type": "stream",
          "name": "stdout",
          "text": [
            "--2022-07-30 03:52:41--  https://storage.googleapis.com/laurencemoroney-blog.appspot.com/rps.zip\n",
            "Resolving storage.googleapis.com (storage.googleapis.com)... 142.250.4.128, 172.217.194.128, 142.251.10.128, ...\n",
            "Connecting to storage.googleapis.com (storage.googleapis.com)|142.250.4.128|:443... connected.\n",
            "HTTP request sent, awaiting response... 200 OK\n",
            "Length: 200682221 (191M) [application/zip]\n",
            "Saving to: ‘/tmp/rps.zip’\n",
            "\n",
            "/tmp/rps.zip        100%[===================>] 191.38M   268MB/s    in 0.7s    \n",
            "\n",
            "2022-07-30 03:52:42 (268 MB/s) - ‘/tmp/rps.zip’ saved [200682221/200682221]\n",
            "\n"
          ]
        }
      ]
    },
    {
      "cell_type": "code",
      "source": [
        "lz = \"/tmp/rps.zip\"\n",
        "zip_ref = zipfile.ZipFile(lz, 'r')\n",
        "zip_ref.extractall('/tmp/data')\n",
        "zip_ref.close()"
      ],
      "metadata": {
        "id": "Ihk0pI1d04Q5"
      },
      "execution_count": 4,
      "outputs": []
    },
    {
      "cell_type": "code",
      "source": [
        "base_dir = '/tmp/rps'\n",
        "data_dir = '/tmp/data/rps'\n",
        "t_dir = os.path.join(base_dir,'train')\n",
        "val_dir = os.path.join(base_dir,'val')\n",
        "roc_dir = os.path.join(data_dir,'rock')\n",
        "pa_dir = os.path.join(data_dir,'paper')\n",
        "sci_dir = os.path.join(data_dir,'scissors')"
      ],
      "metadata": {
        "id": "DbfVyEhZ1eXo"
      },
      "execution_count": 5,
      "outputs": []
    },
    {
      "cell_type": "code",
      "source": [
        "os.mkdir(base_dir)\n",
        "os.mkdir(t_dir)\n",
        "os.mkdir(val_dir)"
      ],
      "metadata": {
        "id": "aq4lFFCc1gdk"
      },
      "execution_count": 6,
      "outputs": []
    },
    {
      "cell_type": "code",
      "source": [
        "tr = os.path.join(t_dir, 'rock')\n",
        "tp = os.path.join(t_dir, 'paper')\n",
        "ts = os.path.join(t_dir, 'scissors')\n",
        "vr = os.path.join(val_dir, 'rock')\n",
        "vp = os.path.join(val_dir, 'paper')\n",
        "vs = os.path.join(val_dir, 'scissors')"
      ],
      "metadata": {
        "id": "16BEltU81iAI"
      },
      "execution_count": 7,
      "outputs": []
    },
    {
      "cell_type": "code",
      "source": [
        "os.mkdir(tr)\n",
        "os.mkdir(tp)\n",
        "os.mkdir(ts)\n",
        "os.mkdir(vr)\n",
        "os.mkdir(vp)\n",
        "os.mkdir(vs)"
      ],
      "metadata": {
        "id": "kDcFCt4_1jdM"
      },
      "execution_count": 8,
      "outputs": []
    },
    {
      "cell_type": "code",
      "source": [
        "train_sci_dir, val_sci_dir = train_test_split(os.listdir(sci_dir), test_size = 0.30)\n",
        "train_roc_dir, val_roc_dir = train_test_split(os.listdir(roc_dir), test_size = 0.30)\n",
        "train_pa_dir, val_pa_dir = train_test_split(os.listdir(pa_dir), test_size = 0.30)"
      ],
      "metadata": {
        "id": "TEZoOn2g1lHZ"
      },
      "execution_count": 9,
      "outputs": []
    },
    {
      "cell_type": "code",
      "source": [
        "for file in train_roc_dir:\n",
        "    shutil.copy(os.path.join(roc_dir, file), os.path.join(tr, file))\n",
        "for file in val_roc_dir:\n",
        "    shutil.copy(os.path.join(roc_dir, file), os.path.join(vr,file))\n",
        "for file in train_pa_dir:\n",
        "    shutil.copy(os.path.join(pa_dir,file), os.path.join(tp,file))\n",
        "for file in val_pa_dir:\n",
        "    shutil.copy(os.path.join(pa_dir,file), os.path.join(vp,file))\n",
        "\n",
        "for file in train_sci_dir:\n",
        "    shutil.copy(os.path.join(sci_dir,file), os.path.join(ts,file))\n",
        "for file in val_sci_dir:\n",
        "    shutil.copy(os.path.join(sci_dir,file), os.path.join(vs,file))"
      ],
      "metadata": {
        "id": "RMPH0TGw3L9R"
      },
      "execution_count": 10,
      "outputs": []
    },
    {
      "cell_type": "code",
      "source": [
        "train_datagen = ImageDataGenerator(\n",
        "    rescale = 1./255,\n",
        "    rotation_range = 45,\n",
        "    horizontal_flip = True,\n",
        "    shear_range = 0.35,\n",
        "    fill_mode = 'nearest',\n",
        ")\n",
        "\n",
        "test_datagen = ImageDataGenerator(\n",
        "    rescale = 1./225,\n",
        "    rotation_range = 45,\n",
        "    horizontal_flip = True,\n",
        "    vertical_flip = True,\n",
        "    shear_range = 0.35,\n",
        "    fill_mode = 'nearest'\n",
        ")"
      ],
      "metadata": {
        "id": "ZWf1LPeb1n2Y"
      },
      "execution_count": 11,
      "outputs": []
    },
    {
      "cell_type": "code",
      "source": [
        "train_generator = train_datagen.flow_from_directory(\n",
        "    t_dir,\n",
        "    target_size=(150,150),\n",
        "    batch_size= 32,\n",
        "    class_mode='categorical'\n",
        ")\n",
        "\n",
        "val_generator = test_datagen.flow_from_directory(\n",
        "    val_dir,\n",
        "    target_size = (150,150),\n",
        "    batch_size = 32,\n",
        "    class_mode = 'categorical'\n",
        ")"
      ],
      "metadata": {
        "id": "Iki1SLee1vRl",
        "colab": {
          "base_uri": "https://localhost:8080/"
        },
        "outputId": "7e78db32-d216-4cba-b3a3-d04cc1f1b9e1"
      },
      "execution_count": 12,
      "outputs": [
        {
          "output_type": "stream",
          "name": "stdout",
          "text": [
            "Found 1764 images belonging to 3 classes.\n",
            "Found 756 images belonging to 3 classes.\n"
          ]
        }
      ]
    },
    {
      "cell_type": "code",
      "source": [
        "#Buatlah model dengan output layer 3\n",
        "model = tf.keras.models.Sequential([\n",
        "  tf.keras.layers.Conv2D(64, (5,5), activation = 'relu', input_shape= (150,150,3)),\n",
        "  tf.keras.layers.AvgPool2D(2,2),\n",
        "  tf.keras.layers.Conv2D(128,(5,5), activation= 'relu'),\n",
        "  tf.keras.layers.AvgPool2D(2,2),\n",
        "  tf.keras.layers.Conv2D(256,(5,5), activation= 'relu'),\n",
        "  tf.keras.layers.AvgPool2D(2,2),\n",
        "  tf.keras.layers.Flatten(),\n",
        "  tf.keras.layers.Dropout(0.5),\n",
        "  tf.keras.layers.Dense(512, activation= 'relu'),\n",
        "  tf.keras.layers.Dense(3, activation= 'softmax')\n",
        "])\n"
      ],
      "metadata": {
        "id": "WLDV_5-U1wtA"
      },
      "execution_count": 32,
      "outputs": []
    },
    {
      "cell_type": "code",
      "source": [
        "#gunakan loss categorical_crossentropy\n",
        "model.compile(\n",
        "    loss='categorical_crossentropy',\n",
        "    optimizer=tf.optimizers.Adam(),\n",
        "    metrics=['accuracy']\n",
        ")"
      ],
      "metadata": {
        "id": "VT34PXzG1yk6"
      },
      "execution_count": 34,
      "outputs": []
    },
    {
      "cell_type": "code",
      "source": [
        "#train model\n",
        "history = model.fit(\n",
        "    train_generator,\n",
        "    steps_per_epoch=55, \n",
        "    epochs = 42,\n",
        "    validation_data = val_generator,\n",
        "    validation_steps = 23, \n",
        "    verbose=1,\n",
        "    callbacks=[callbacks]\n",
        ")"
      ],
      "metadata": {
        "id": "30VVIThO2Db5",
        "colab": {
          "base_uri": "https://localhost:8080/"
        },
        "outputId": "86d269c6-9aaf-4418-a7b5-2243a947d732"
      },
      "execution_count": 35,
      "outputs": [
        {
          "output_type": "stream",
          "name": "stdout",
          "text": [
            "Epoch 1/42\n",
            "55/55 [==============================] - 23s 393ms/step - loss: 1.5383 - accuracy: 0.3476 - val_loss: 1.0953 - val_accuracy: 0.4226\n",
            "Epoch 2/42\n",
            "55/55 [==============================] - 20s 368ms/step - loss: 1.1116 - accuracy: 0.4532 - val_loss: 1.1070 - val_accuracy: 0.3723\n",
            "Epoch 3/42\n",
            "55/55 [==============================] - 20s 365ms/step - loss: 0.8694 - accuracy: 0.5976 - val_loss: 1.7911 - val_accuracy: 0.4918\n",
            "Epoch 4/42\n",
            "55/55 [==============================] - 21s 388ms/step - loss: 0.6120 - accuracy: 0.7454 - val_loss: 5.9317 - val_accuracy: 0.4837\n",
            "Epoch 5/42\n",
            "55/55 [==============================] - 24s 444ms/step - loss: 0.4474 - accuracy: 0.8112 - val_loss: 3.1048 - val_accuracy: 0.6182\n",
            "Epoch 6/42\n",
            "55/55 [==============================] - 21s 390ms/step - loss: 0.3329 - accuracy: 0.8707 - val_loss: 2.9729 - val_accuracy: 0.6209\n",
            "Epoch 7/42\n",
            "55/55 [==============================] - 20s 360ms/step - loss: 0.2154 - accuracy: 0.9197 - val_loss: 3.4182 - val_accuracy: 0.6427\n",
            "Epoch 8/42\n",
            "55/55 [==============================] - 21s 389ms/step - loss: 0.1467 - accuracy: 0.9463 - val_loss: 3.4077 - val_accuracy: 0.6821\n",
            "Epoch 9/42\n",
            "55/55 [==============================] - 20s 361ms/step - loss: 0.1014 - accuracy: 0.9630 - val_loss: 3.7977 - val_accuracy: 0.6685\n"
          ]
        }
      ]
    },
    {
      "cell_type": "code",
      "source": [
        "from google.colab import drive\n",
        "drive.mount('/content/gdrive')"
      ],
      "metadata": {
        "colab": {
          "base_uri": "https://localhost:8080/"
        },
        "id": "8REQSLXhhKy0",
        "outputId": "5728f1cf-a6f2-4e49-a3a8-19ff9b1025a3"
      },
      "execution_count": 16,
      "outputs": [
        {
          "output_type": "stream",
          "name": "stdout",
          "text": [
            "Mounted at /content/gdrive\n"
          ]
        }
      ]
    },
    {
      "cell_type": "code",
      "source": [
        "%cd /content/gdrive/MyDrive/Model"
      ],
      "metadata": {
        "colab": {
          "base_uri": "https://localhost:8080/"
        },
        "id": "3-I76kDbhhIN",
        "outputId": "de4ea3dc-aa27-411f-b250-f09d07508f59"
      },
      "execution_count": 17,
      "outputs": [
        {
          "output_type": "stream",
          "name": "stdout",
          "text": [
            "/content/gdrive/MyDrive/Model\n"
          ]
        }
      ]
    },
    {
      "cell_type": "code",
      "source": [
        "#save model\n",
        "model.save('Model3_2.h5')"
      ],
      "metadata": {
        "id": "vx2_y2Wg2Kcz"
      },
      "execution_count": 18,
      "outputs": []
    }
  ]
}