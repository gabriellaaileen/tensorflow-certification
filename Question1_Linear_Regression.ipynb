{
  "nbformat": 4,
  "nbformat_minor": 0,
  "metadata": {
    "colab": {
      "name": "Question1_Linear Regression.ipynb",
      "provenance": [],
      "collapsed_sections": [],
      "include_colab_link": true
    },
    "kernelspec": {
      "name": "python3",
      "display_name": "Python 3"
    },
    "language_info": {
      "name": "python"
    }
  },
  "cells": [
    {
      "cell_type": "markdown",
      "metadata": {
        "id": "view-in-github",
        "colab_type": "text"
      },
      "source": [
        "<a href=\"https://colab.research.google.com/github/gabriellaaileen/tensorflow-certification/blob/main/Question1_Linear_Regression.ipynb\" target=\"_parent\"><img src=\"https://colab.research.google.com/assets/colab-badge.svg\" alt=\"Open In Colab\"/></a>"
      ]
    },
    {
      "cell_type": "markdown",
      "source": [
        "No 1. Linear Regression"
      ],
      "metadata": {
        "id": "xsIVT16TBbl0"
      }
    },
    {
      "cell_type": "code",
      "source": [
        "data = [0.0 ,1.0 ,2.0 ,3.0 ,4.0 ,5.0 ,6.0 ,7.0 ,8.0 ,9.0]\n",
        "label = [ 1.0,  4.0,  7.0, 10.0, 13.0, 16.0, 19.0, 22.0, 25.0, 28.0]"
      ],
      "metadata": {
        "id": "e5imELjw-CeU"
      },
      "execution_count": null,
      "outputs": []
    },
    {
      "cell_type": "code",
      "source": [
        "# Silakan menentukan arsitektur model sendiri\n",
        "import tensorflow as tf\n",
        "from tensorflow import keras\n",
        "\n",
        "model = tf.keras.Sequential([keras.layers.Dense(units=1, input_shape=[1])])"
      ],
      "metadata": {
        "id": "icfr37Do9e72"
      },
      "execution_count": null,
      "outputs": []
    },
    {
      "cell_type": "code",
      "source": [
        "# Silakan menentukan loss dan optimizer sendiri\n",
        "model.compile(\n",
        "    optimizer=\"sgd\", loss=\"mean_squared_error\"\n",
        ")"
      ],
      "metadata": {
        "id": "1wTbAWV69dBW"
      },
      "execution_count": null,
      "outputs": []
    },
    {
      "cell_type": "code",
      "source": [
        "# Silakan menentukan banyaknya epoch sendiri\n",
        "model.fit(\n",
        "    data, label, epochs=100,verbose=1\n",
        ")"
      ],
      "metadata": {
        "id": "9bPKrqMx9bBH",
        "colab": {
          "base_uri": "https://localhost:8080/"
        },
        "outputId": "2e9811f1-4a2f-497e-8ffb-f9f5455df7e8"
      },
      "execution_count": null,
      "outputs": [
        {
          "output_type": "stream",
          "name": "stdout",
          "text": [
            "Epoch 1/100\n",
            "1/1 [==============================] - 0s 493ms/step - loss: 674.0458\n",
            "Epoch 2/100\n",
            "1/1 [==============================] - 0s 10ms/step - loss: 116.4639\n",
            "Epoch 3/100\n",
            "1/1 [==============================] - 0s 9ms/step - loss: 20.1345\n",
            "Epoch 4/100\n",
            "1/1 [==============================] - 0s 10ms/step - loss: 3.4922\n",
            "Epoch 5/100\n",
            "1/1 [==============================] - 0s 10ms/step - loss: 0.6169\n",
            "Epoch 6/100\n",
            "1/1 [==============================] - 0s 10ms/step - loss: 0.1200\n",
            "Epoch 7/100\n",
            "1/1 [==============================] - 0s 19ms/step - loss: 0.0340\n",
            "Epoch 8/100\n",
            "1/1 [==============================] - 0s 8ms/step - loss: 0.0190\n",
            "Epoch 9/100\n",
            "1/1 [==============================] - 0s 9ms/step - loss: 0.0162\n",
            "Epoch 10/100\n",
            "1/1 [==============================] - 0s 10ms/step - loss: 0.0156\n",
            "Epoch 11/100\n",
            "1/1 [==============================] - 0s 11ms/step - loss: 0.0154\n",
            "Epoch 12/100\n",
            "1/1 [==============================] - 0s 9ms/step - loss: 0.0152\n",
            "Epoch 13/100\n",
            "1/1 [==============================] - 0s 10ms/step - loss: 0.0150\n",
            "Epoch 14/100\n",
            "1/1 [==============================] - 0s 13ms/step - loss: 0.0148\n",
            "Epoch 15/100\n",
            "1/1 [==============================] - 0s 13ms/step - loss: 0.0147\n",
            "Epoch 16/100\n",
            "1/1 [==============================] - 0s 10ms/step - loss: 0.0145\n",
            "Epoch 17/100\n",
            "1/1 [==============================] - 0s 14ms/step - loss: 0.0143\n",
            "Epoch 18/100\n",
            "1/1 [==============================] - 0s 13ms/step - loss: 0.0142\n",
            "Epoch 19/100\n",
            "1/1 [==============================] - 0s 11ms/step - loss: 0.0140\n",
            "Epoch 20/100\n",
            "1/1 [==============================] - 0s 15ms/step - loss: 0.0139\n",
            "Epoch 21/100\n",
            "1/1 [==============================] - 0s 10ms/step - loss: 0.0137\n",
            "Epoch 22/100\n",
            "1/1 [==============================] - 0s 11ms/step - loss: 0.0135\n",
            "Epoch 23/100\n",
            "1/1 [==============================] - 0s 10ms/step - loss: 0.0134\n",
            "Epoch 24/100\n",
            "1/1 [==============================] - 0s 12ms/step - loss: 0.0132\n",
            "Epoch 25/100\n",
            "1/1 [==============================] - 0s 11ms/step - loss: 0.0131\n",
            "Epoch 26/100\n",
            "1/1 [==============================] - 0s 10ms/step - loss: 0.0129\n",
            "Epoch 27/100\n",
            "1/1 [==============================] - 0s 16ms/step - loss: 0.0128\n",
            "Epoch 28/100\n",
            "1/1 [==============================] - 0s 13ms/step - loss: 0.0127\n",
            "Epoch 29/100\n",
            "1/1 [==============================] - 0s 13ms/step - loss: 0.0125\n",
            "Epoch 30/100\n",
            "1/1 [==============================] - 0s 11ms/step - loss: 0.0124\n",
            "Epoch 31/100\n",
            "1/1 [==============================] - 0s 13ms/step - loss: 0.0122\n",
            "Epoch 32/100\n",
            "1/1 [==============================] - 0s 18ms/step - loss: 0.0121\n",
            "Epoch 33/100\n",
            "1/1 [==============================] - 0s 22ms/step - loss: 0.0120\n",
            "Epoch 34/100\n",
            "1/1 [==============================] - 0s 17ms/step - loss: 0.0118\n",
            "Epoch 35/100\n",
            "1/1 [==============================] - 0s 18ms/step - loss: 0.0117\n",
            "Epoch 36/100\n",
            "1/1 [==============================] - 0s 20ms/step - loss: 0.0116\n",
            "Epoch 37/100\n",
            "1/1 [==============================] - 0s 28ms/step - loss: 0.0114\n",
            "Epoch 38/100\n",
            "1/1 [==============================] - 0s 20ms/step - loss: 0.0113\n",
            "Epoch 39/100\n",
            "1/1 [==============================] - 0s 20ms/step - loss: 0.0112\n",
            "Epoch 40/100\n",
            "1/1 [==============================] - 0s 31ms/step - loss: 0.0110\n",
            "Epoch 41/100\n",
            "1/1 [==============================] - 0s 19ms/step - loss: 0.0109\n",
            "Epoch 42/100\n",
            "1/1 [==============================] - 0s 19ms/step - loss: 0.0108\n",
            "Epoch 43/100\n",
            "1/1 [==============================] - 0s 36ms/step - loss: 0.0107\n",
            "Epoch 44/100\n",
            "1/1 [==============================] - 0s 30ms/step - loss: 0.0106\n",
            "Epoch 45/100\n",
            "1/1 [==============================] - 0s 33ms/step - loss: 0.0104\n",
            "Epoch 46/100\n",
            "1/1 [==============================] - 0s 35ms/step - loss: 0.0103\n",
            "Epoch 47/100\n",
            "1/1 [==============================] - 0s 14ms/step - loss: 0.0102\n",
            "Epoch 48/100\n",
            "1/1 [==============================] - 0s 16ms/step - loss: 0.0101\n",
            "Epoch 49/100\n",
            "1/1 [==============================] - 0s 14ms/step - loss: 0.0100\n",
            "Epoch 50/100\n",
            "1/1 [==============================] - 0s 19ms/step - loss: 0.0099\n",
            "Epoch 51/100\n",
            "1/1 [==============================] - 0s 39ms/step - loss: 0.0098\n",
            "Epoch 52/100\n",
            "1/1 [==============================] - 0s 20ms/step - loss: 0.0096\n",
            "Epoch 53/100\n",
            "1/1 [==============================] - 0s 10ms/step - loss: 0.0095\n",
            "Epoch 54/100\n",
            "1/1 [==============================] - 0s 24ms/step - loss: 0.0094\n",
            "Epoch 55/100\n",
            "1/1 [==============================] - 0s 23ms/step - loss: 0.0093\n",
            "Epoch 56/100\n",
            "1/1 [==============================] - 0s 24ms/step - loss: 0.0092\n",
            "Epoch 57/100\n",
            "1/1 [==============================] - 0s 26ms/step - loss: 0.0091\n",
            "Epoch 58/100\n",
            "1/1 [==============================] - 0s 21ms/step - loss: 0.0090\n",
            "Epoch 59/100\n",
            "1/1 [==============================] - 0s 24ms/step - loss: 0.0089\n",
            "Epoch 60/100\n",
            "1/1 [==============================] - 0s 49ms/step - loss: 0.0088\n",
            "Epoch 61/100\n",
            "1/1 [==============================] - 0s 20ms/step - loss: 0.0087\n",
            "Epoch 62/100\n",
            "1/1 [==============================] - 0s 20ms/step - loss: 0.0086\n",
            "Epoch 63/100\n",
            "1/1 [==============================] - 0s 42ms/step - loss: 0.0085\n",
            "Epoch 64/100\n",
            "1/1 [==============================] - 0s 58ms/step - loss: 0.0084\n",
            "Epoch 65/100\n",
            "1/1 [==============================] - 0s 15ms/step - loss: 0.0083\n",
            "Epoch 66/100\n",
            "1/1 [==============================] - 0s 12ms/step - loss: 0.0082\n",
            "Epoch 67/100\n",
            "1/1 [==============================] - 0s 13ms/step - loss: 0.0081\n",
            "Epoch 68/100\n",
            "1/1 [==============================] - 0s 12ms/step - loss: 0.0080\n",
            "Epoch 69/100\n",
            "1/1 [==============================] - 0s 24ms/step - loss: 0.0080\n",
            "Epoch 70/100\n",
            "1/1 [==============================] - 0s 9ms/step - loss: 0.0079\n",
            "Epoch 71/100\n",
            "1/1 [==============================] - 0s 14ms/step - loss: 0.0078\n",
            "Epoch 72/100\n",
            "1/1 [==============================] - 0s 20ms/step - loss: 0.0077\n",
            "Epoch 73/100\n",
            "1/1 [==============================] - 0s 10ms/step - loss: 0.0076\n",
            "Epoch 74/100\n",
            "1/1 [==============================] - 0s 10ms/step - loss: 0.0075\n",
            "Epoch 75/100\n",
            "1/1 [==============================] - 0s 10ms/step - loss: 0.0074\n",
            "Epoch 76/100\n",
            "1/1 [==============================] - 0s 11ms/step - loss: 0.0073\n",
            "Epoch 77/100\n",
            "1/1 [==============================] - 0s 10ms/step - loss: 0.0073\n",
            "Epoch 78/100\n",
            "1/1 [==============================] - 0s 13ms/step - loss: 0.0072\n",
            "Epoch 79/100\n",
            "1/1 [==============================] - 0s 10ms/step - loss: 0.0071\n",
            "Epoch 80/100\n",
            "1/1 [==============================] - 0s 15ms/step - loss: 0.0070\n",
            "Epoch 81/100\n",
            "1/1 [==============================] - 0s 10ms/step - loss: 0.0069\n",
            "Epoch 82/100\n",
            "1/1 [==============================] - 0s 11ms/step - loss: 0.0069\n",
            "Epoch 83/100\n",
            "1/1 [==============================] - 0s 15ms/step - loss: 0.0068\n",
            "Epoch 84/100\n",
            "1/1 [==============================] - 0s 13ms/step - loss: 0.0067\n",
            "Epoch 85/100\n",
            "1/1 [==============================] - 0s 10ms/step - loss: 0.0066\n",
            "Epoch 86/100\n",
            "1/1 [==============================] - 0s 15ms/step - loss: 0.0066\n",
            "Epoch 87/100\n",
            "1/1 [==============================] - 0s 16ms/step - loss: 0.0065\n",
            "Epoch 88/100\n",
            "1/1 [==============================] - 0s 10ms/step - loss: 0.0064\n",
            "Epoch 89/100\n",
            "1/1 [==============================] - 0s 12ms/step - loss: 0.0063\n",
            "Epoch 90/100\n",
            "1/1 [==============================] - 0s 9ms/step - loss: 0.0063\n",
            "Epoch 91/100\n",
            "1/1 [==============================] - 0s 13ms/step - loss: 0.0062\n",
            "Epoch 92/100\n",
            "1/1 [==============================] - 0s 13ms/step - loss: 0.0061\n",
            "Epoch 93/100\n",
            "1/1 [==============================] - 0s 11ms/step - loss: 0.0061\n",
            "Epoch 94/100\n",
            "1/1 [==============================] - 0s 10ms/step - loss: 0.0060\n",
            "Epoch 95/100\n",
            "1/1 [==============================] - 0s 10ms/step - loss: 0.0059\n",
            "Epoch 96/100\n",
            "1/1 [==============================] - 0s 12ms/step - loss: 0.0059\n",
            "Epoch 97/100\n",
            "1/1 [==============================] - 0s 12ms/step - loss: 0.0058\n",
            "Epoch 98/100\n",
            "1/1 [==============================] - 0s 10ms/step - loss: 0.0057\n",
            "Epoch 99/100\n",
            "1/1 [==============================] - 0s 9ms/step - loss: 0.0057\n",
            "Epoch 100/100\n",
            "1/1 [==============================] - 0s 12ms/step - loss: 0.0056\n"
          ]
        },
        {
          "output_type": "execute_result",
          "data": {
            "text/plain": [
              "<keras.callbacks.History at 0x7fa50d5c2d10>"
            ]
          },
          "metadata": {},
          "execution_count": 5
        }
      ]
    },
    {
      "cell_type": "code",
      "source": [
        "print(model.predict([20]))"
      ],
      "metadata": {
        "id": "teDRWsZ4BltX",
        "colab": {
          "base_uri": "https://localhost:8080/"
        },
        "outputId": "95725c55-ef14-4bcf-a1ef-fc3db469a5db"
      },
      "execution_count": null,
      "outputs": [
        {
          "output_type": "stream",
          "name": "stdout",
          "text": [
            "[[61.302734]]\n"
          ]
        }
      ]
    },
    {
      "cell_type": "code",
      "source": [
        "from google.colab import drive\n",
        "drive.mount('/content/gdrive')"
      ],
      "metadata": {
        "colab": {
          "base_uri": "https://localhost:8080/"
        },
        "id": "8REQSLXhhKy0",
        "outputId": "520d1587-7b10-4bc2-b9f7-2adf91cd5fc3"
      },
      "execution_count": null,
      "outputs": [
        {
          "output_type": "stream",
          "name": "stdout",
          "text": [
            "Mounted at /content/gdrive\n"
          ]
        }
      ]
    },
    {
      "cell_type": "code",
      "source": [
        "%cd /content/gdrive/MyDrive/Model"
      ],
      "metadata": {
        "colab": {
          "base_uri": "https://localhost:8080/"
        },
        "id": "3-I76kDbhhIN",
        "outputId": "6ec1e191-df80-4e97-d2ba-84055800139b"
      },
      "execution_count": null,
      "outputs": [
        {
          "output_type": "stream",
          "name": "stdout",
          "text": [
            "/content/gdrive/MyDrive/Model\n"
          ]
        }
      ]
    },
    {
      "cell_type": "code",
      "execution_count": null,
      "metadata": {
        "id": "Bijz4KTJ9R50"
      },
      "outputs": [],
      "source": [
        "#save model menjadi .h5\n",
        "model.save('model1.h5')"
      ]
    }
  ]
}